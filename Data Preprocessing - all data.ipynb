{
 "cells": [
  {
   "cell_type": "markdown",
   "id": "47b98a6a",
   "metadata": {},
   "source": [
    "<h1> <center> Big Mac Index - Panel Data Analysis Project </center> </h1>\n",
    "<center> <h2>  1. Data Pre-processing </h2> </center>\n",
    "<br></br>"
   ]
  },
  {
   "cell_type": "code",
   "execution_count": 1,
   "id": "0632ab0e",
   "metadata": {},
   "outputs": [],
   "source": [
    "# Import libraries\n",
    "import pandas as pd"
   ]
  },
  {
   "cell_type": "markdown",
   "id": "eca32f00",
   "metadata": {},
   "source": [
    "**All Data Upload**"
   ]
  },
  {
   "cell_type": "code",
   "execution_count": 7,
   "id": "ad524727",
   "metadata": {},
   "outputs": [
    {
     "ename": "TypeError",
     "evalue": "Passing a bool to header is invalid. Use header=None for no header or header=int or list-like of ints to specify the row(s) making up the column names",
     "output_type": "error",
     "traceback": [
      "\u001b[1;31m---------------------------------------------------------------------------\u001b[0m",
      "\u001b[1;31mTypeError\u001b[0m                                 Traceback (most recent call last)",
      "\u001b[1;32md:\\Big-Mac-Index-Panel-Data-Analysis\\Data Preprocessing - all data.ipynb Cell 4'\u001b[0m in \u001b[0;36m<cell line: 10>\u001b[1;34m()\u001b[0m\n\u001b[0;32m      <a href='vscode-notebook-cell:/d%3A/Big-Mac-Index-Panel-Data-Analysis/Data%20Preprocessing%20-%20all%20data.ipynb#ch0000003?line=7'>8</a>\u001b[0m \u001b[39m# Load datasets\u001b[39;00m\n\u001b[0;32m      <a href='vscode-notebook-cell:/d%3A/Big-Mac-Index-Panel-Data-Analysis/Data%20Preprocessing%20-%20all%20data.ipynb#ch0000003?line=8'>9</a>\u001b[0m big_mac \u001b[39m=\u001b[39m pd\u001b[39m.\u001b[39mread_csv(path \u001b[39m+\u001b[39m \u001b[39m'\u001b[39m\u001b[39mbig-mac-raw-index.csv\u001b[39m\u001b[39m'\u001b[39m, usecols \u001b[39m=\u001b[39m [\u001b[39m'\u001b[39m\u001b[39mdate\u001b[39m\u001b[39m'\u001b[39m, \u001b[39m'\u001b[39m\u001b[39miso_a3\u001b[39m\u001b[39m'\u001b[39m, \u001b[39m'\u001b[39m\u001b[39mlocal_price\u001b[39m\u001b[39m'\u001b[39m, \u001b[39m'\u001b[39m\u001b[39mdollar_ex\u001b[39m\u001b[39m'\u001b[39m])\n\u001b[1;32m---> <a href='vscode-notebook-cell:/d%3A/Big-Mac-Index-Panel-Data-Analysis/Data%20Preprocessing%20-%20all%20data.ipynb#ch0000003?line=9'>10</a>\u001b[0m gdp_data \u001b[39m=\u001b[39m pd\u001b[39m.\u001b[39;49mread_csv(path \u001b[39m+\u001b[39;49m \u001b[39mr\u001b[39;49m\u001b[39m'\u001b[39;49m\u001b[39mAPI_NY.GDP.PCAP.PP.CD_DS2_en_csv_v2_4150885\u001b[39;49m\u001b[39m\\\u001b[39;49m\u001b[39mAPI_NY.GDP.PCAP.PP.CD_DS2_en_csv_v2_4150885.csv\u001b[39;49m\u001b[39m'\u001b[39;49m, header\u001b[39m=\u001b[39;49m\u001b[39mFalse\u001b[39;49;00m)\n\u001b[0;32m     <a href='vscode-notebook-cell:/d%3A/Big-Mac-Index-Panel-Data-Analysis/Data%20Preprocessing%20-%20all%20data.ipynb#ch0000003?line=10'>11</a>\u001b[0m acc_balance \u001b[39m=\u001b[39m pd\u001b[39m.\u001b[39mread_csv(path \u001b[39m+\u001b[39m \u001b[39mr\u001b[39m\u001b[39m'\u001b[39m\u001b[39mAPI_BN.CAB.XOKA.GD.ZS_DS2_en_csv_v2_4150849\u001b[39m\u001b[39m\\\u001b[39m\u001b[39mAPI_BN.CAB.XOKA.GD.ZS_DS2_en_csv_v2_4150849.csv\u001b[39m\u001b[39m'\u001b[39m, header\u001b[39m=\u001b[39m\u001b[39mFalse\u001b[39;00m)\n\u001b[0;32m     <a href='vscode-notebook-cell:/d%3A/Big-Mac-Index-Panel-Data-Analysis/Data%20Preprocessing%20-%20all%20data.ipynb#ch0000003?line=11'>12</a>\u001b[0m labcomp \u001b[39m=\u001b[39m pd\u001b[39m.\u001b[39mread_excel(path \u001b[39m+\u001b[39m \u001b[39m'\u001b[39m\u001b[39mpwt100.xlsx\u001b[39m\u001b[39m'\u001b[39m, sheet_name \u001b[39m=\u001b[39m \u001b[39m2\u001b[39m)\n",
      "File \u001b[1;32mc:\\Users\\yashv\\AppData\\Local\\Programs\\Python\\Python310\\lib\\site-packages\\pandas\\util\\_decorators.py:311\u001b[0m, in \u001b[0;36mdeprecate_nonkeyword_arguments.<locals>.decorate.<locals>.wrapper\u001b[1;34m(*args, **kwargs)\u001b[0m\n\u001b[0;32m    <a href='file:///c%3A/Users/yashv/AppData/Local/Programs/Python/Python310/lib/site-packages/pandas/util/_decorators.py?line=304'>305</a>\u001b[0m \u001b[39mif\u001b[39;00m \u001b[39mlen\u001b[39m(args) \u001b[39m>\u001b[39m num_allow_args:\n\u001b[0;32m    <a href='file:///c%3A/Users/yashv/AppData/Local/Programs/Python/Python310/lib/site-packages/pandas/util/_decorators.py?line=305'>306</a>\u001b[0m     warnings\u001b[39m.\u001b[39mwarn(\n\u001b[0;32m    <a href='file:///c%3A/Users/yashv/AppData/Local/Programs/Python/Python310/lib/site-packages/pandas/util/_decorators.py?line=306'>307</a>\u001b[0m         msg\u001b[39m.\u001b[39mformat(arguments\u001b[39m=\u001b[39marguments),\n\u001b[0;32m    <a href='file:///c%3A/Users/yashv/AppData/Local/Programs/Python/Python310/lib/site-packages/pandas/util/_decorators.py?line=307'>308</a>\u001b[0m         \u001b[39mFutureWarning\u001b[39;00m,\n\u001b[0;32m    <a href='file:///c%3A/Users/yashv/AppData/Local/Programs/Python/Python310/lib/site-packages/pandas/util/_decorators.py?line=308'>309</a>\u001b[0m         stacklevel\u001b[39m=\u001b[39mstacklevel,\n\u001b[0;32m    <a href='file:///c%3A/Users/yashv/AppData/Local/Programs/Python/Python310/lib/site-packages/pandas/util/_decorators.py?line=309'>310</a>\u001b[0m     )\n\u001b[1;32m--> <a href='file:///c%3A/Users/yashv/AppData/Local/Programs/Python/Python310/lib/site-packages/pandas/util/_decorators.py?line=310'>311</a>\u001b[0m \u001b[39mreturn\u001b[39;00m func(\u001b[39m*\u001b[39margs, \u001b[39m*\u001b[39m\u001b[39m*\u001b[39mkwargs)\n",
      "File \u001b[1;32mc:\\Users\\yashv\\AppData\\Local\\Programs\\Python\\Python310\\lib\\site-packages\\pandas\\io\\parsers\\readers.py:680\u001b[0m, in \u001b[0;36mread_csv\u001b[1;34m(filepath_or_buffer, sep, delimiter, header, names, index_col, usecols, squeeze, prefix, mangle_dupe_cols, dtype, engine, converters, true_values, false_values, skipinitialspace, skiprows, skipfooter, nrows, na_values, keep_default_na, na_filter, verbose, skip_blank_lines, parse_dates, infer_datetime_format, keep_date_col, date_parser, dayfirst, cache_dates, iterator, chunksize, compression, thousands, decimal, lineterminator, quotechar, quoting, doublequote, escapechar, comment, encoding, encoding_errors, dialect, error_bad_lines, warn_bad_lines, on_bad_lines, delim_whitespace, low_memory, memory_map, float_precision, storage_options)\u001b[0m\n\u001b[0;32m    <a href='file:///c%3A/Users/yashv/AppData/Local/Programs/Python/Python310/lib/site-packages/pandas/io/parsers/readers.py?line=664'>665</a>\u001b[0m kwds_defaults \u001b[39m=\u001b[39m _refine_defaults_read(\n\u001b[0;32m    <a href='file:///c%3A/Users/yashv/AppData/Local/Programs/Python/Python310/lib/site-packages/pandas/io/parsers/readers.py?line=665'>666</a>\u001b[0m     dialect,\n\u001b[0;32m    <a href='file:///c%3A/Users/yashv/AppData/Local/Programs/Python/Python310/lib/site-packages/pandas/io/parsers/readers.py?line=666'>667</a>\u001b[0m     delimiter,\n\u001b[1;32m   (...)\u001b[0m\n\u001b[0;32m    <a href='file:///c%3A/Users/yashv/AppData/Local/Programs/Python/Python310/lib/site-packages/pandas/io/parsers/readers.py?line=675'>676</a>\u001b[0m     defaults\u001b[39m=\u001b[39m{\u001b[39m\"\u001b[39m\u001b[39mdelimiter\u001b[39m\u001b[39m\"\u001b[39m: \u001b[39m\"\u001b[39m\u001b[39m,\u001b[39m\u001b[39m\"\u001b[39m},\n\u001b[0;32m    <a href='file:///c%3A/Users/yashv/AppData/Local/Programs/Python/Python310/lib/site-packages/pandas/io/parsers/readers.py?line=676'>677</a>\u001b[0m )\n\u001b[0;32m    <a href='file:///c%3A/Users/yashv/AppData/Local/Programs/Python/Python310/lib/site-packages/pandas/io/parsers/readers.py?line=677'>678</a>\u001b[0m kwds\u001b[39m.\u001b[39mupdate(kwds_defaults)\n\u001b[1;32m--> <a href='file:///c%3A/Users/yashv/AppData/Local/Programs/Python/Python310/lib/site-packages/pandas/io/parsers/readers.py?line=679'>680</a>\u001b[0m \u001b[39mreturn\u001b[39;00m _read(filepath_or_buffer, kwds)\n",
      "File \u001b[1;32mc:\\Users\\yashv\\AppData\\Local\\Programs\\Python\\Python310\\lib\\site-packages\\pandas\\io\\parsers\\readers.py:575\u001b[0m, in \u001b[0;36m_read\u001b[1;34m(filepath_or_buffer, kwds)\u001b[0m\n\u001b[0;32m    <a href='file:///c%3A/Users/yashv/AppData/Local/Programs/Python/Python310/lib/site-packages/pandas/io/parsers/readers.py?line=571'>572</a>\u001b[0m _validate_names(kwds\u001b[39m.\u001b[39mget(\u001b[39m\"\u001b[39m\u001b[39mnames\u001b[39m\u001b[39m\"\u001b[39m, \u001b[39mNone\u001b[39;00m))\n\u001b[0;32m    <a href='file:///c%3A/Users/yashv/AppData/Local/Programs/Python/Python310/lib/site-packages/pandas/io/parsers/readers.py?line=573'>574</a>\u001b[0m \u001b[39m# Create the parser.\u001b[39;00m\n\u001b[1;32m--> <a href='file:///c%3A/Users/yashv/AppData/Local/Programs/Python/Python310/lib/site-packages/pandas/io/parsers/readers.py?line=574'>575</a>\u001b[0m parser \u001b[39m=\u001b[39m TextFileReader(filepath_or_buffer, \u001b[39m*\u001b[39m\u001b[39m*\u001b[39mkwds)\n\u001b[0;32m    <a href='file:///c%3A/Users/yashv/AppData/Local/Programs/Python/Python310/lib/site-packages/pandas/io/parsers/readers.py?line=576'>577</a>\u001b[0m \u001b[39mif\u001b[39;00m chunksize \u001b[39mor\u001b[39;00m iterator:\n\u001b[0;32m    <a href='file:///c%3A/Users/yashv/AppData/Local/Programs/Python/Python310/lib/site-packages/pandas/io/parsers/readers.py?line=577'>578</a>\u001b[0m     \u001b[39mreturn\u001b[39;00m parser\n",
      "File \u001b[1;32mc:\\Users\\yashv\\AppData\\Local\\Programs\\Python\\Python310\\lib\\site-packages\\pandas\\io\\parsers\\readers.py:925\u001b[0m, in \u001b[0;36mTextFileReader.__init__\u001b[1;34m(self, f, engine, **kwds)\u001b[0m\n\u001b[0;32m    <a href='file:///c%3A/Users/yashv/AppData/Local/Programs/Python/Python310/lib/site-packages/pandas/io/parsers/readers.py?line=921'>922</a>\u001b[0m \u001b[39mself\u001b[39m\u001b[39m.\u001b[39mnrows \u001b[39m=\u001b[39m options\u001b[39m.\u001b[39mpop(\u001b[39m\"\u001b[39m\u001b[39mnrows\u001b[39m\u001b[39m\"\u001b[39m, \u001b[39mNone\u001b[39;00m)\n\u001b[0;32m    <a href='file:///c%3A/Users/yashv/AppData/Local/Programs/Python/Python310/lib/site-packages/pandas/io/parsers/readers.py?line=923'>924</a>\u001b[0m \u001b[39mself\u001b[39m\u001b[39m.\u001b[39m_check_file_or_buffer(f, engine)\n\u001b[1;32m--> <a href='file:///c%3A/Users/yashv/AppData/Local/Programs/Python/Python310/lib/site-packages/pandas/io/parsers/readers.py?line=924'>925</a>\u001b[0m \u001b[39mself\u001b[39m\u001b[39m.\u001b[39moptions, \u001b[39mself\u001b[39m\u001b[39m.\u001b[39mengine \u001b[39m=\u001b[39m \u001b[39mself\u001b[39;49m\u001b[39m.\u001b[39;49m_clean_options(options, engine)\n\u001b[0;32m    <a href='file:///c%3A/Users/yashv/AppData/Local/Programs/Python/Python310/lib/site-packages/pandas/io/parsers/readers.py?line=926'>927</a>\u001b[0m \u001b[39mself\u001b[39m\u001b[39m.\u001b[39msqueeze \u001b[39m=\u001b[39m \u001b[39mself\u001b[39m\u001b[39m.\u001b[39moptions\u001b[39m.\u001b[39mpop(\u001b[39m\"\u001b[39m\u001b[39msqueeze\u001b[39m\u001b[39m\"\u001b[39m, \u001b[39mFalse\u001b[39;00m)\n\u001b[0;32m    <a href='file:///c%3A/Users/yashv/AppData/Local/Programs/Python/Python310/lib/site-packages/pandas/io/parsers/readers.py?line=928'>929</a>\u001b[0m \u001b[39mif\u001b[39;00m \u001b[39m\"\u001b[39m\u001b[39mhas_index_names\u001b[39m\u001b[39m\"\u001b[39m \u001b[39min\u001b[39;00m kwds:\n",
      "File \u001b[1;32mc:\\Users\\yashv\\AppData\\Local\\Programs\\Python\\Python310\\lib\\site-packages\\pandas\\io\\parsers\\readers.py:1118\u001b[0m, in \u001b[0;36mTextFileReader._clean_options\u001b[1;34m(self, options, engine)\u001b[0m\n\u001b[0;32m   <a href='file:///c%3A/Users/yashv/AppData/Local/Programs/Python/Python310/lib/site-packages/pandas/io/parsers/readers.py?line=1114'>1115</a>\u001b[0m na_values \u001b[39m=\u001b[39m options[\u001b[39m\"\u001b[39m\u001b[39mna_values\u001b[39m\u001b[39m\"\u001b[39m]\n\u001b[0;32m   <a href='file:///c%3A/Users/yashv/AppData/Local/Programs/Python/Python310/lib/site-packages/pandas/io/parsers/readers.py?line=1115'>1116</a>\u001b[0m skiprows \u001b[39m=\u001b[39m options[\u001b[39m\"\u001b[39m\u001b[39mskiprows\u001b[39m\u001b[39m\"\u001b[39m]\n\u001b[1;32m-> <a href='file:///c%3A/Users/yashv/AppData/Local/Programs/Python/Python310/lib/site-packages/pandas/io/parsers/readers.py?line=1117'>1118</a>\u001b[0m validate_header_arg(options[\u001b[39m\"\u001b[39;49m\u001b[39mheader\u001b[39;49m\u001b[39m\"\u001b[39;49m])\n\u001b[0;32m   <a href='file:///c%3A/Users/yashv/AppData/Local/Programs/Python/Python310/lib/site-packages/pandas/io/parsers/readers.py?line=1119'>1120</a>\u001b[0m \u001b[39mfor\u001b[39;00m arg \u001b[39min\u001b[39;00m _deprecated_defaults\u001b[39m.\u001b[39mkeys():\n\u001b[0;32m   <a href='file:///c%3A/Users/yashv/AppData/Local/Programs/Python/Python310/lib/site-packages/pandas/io/parsers/readers.py?line=1120'>1121</a>\u001b[0m     parser_default \u001b[39m=\u001b[39m _c_parser_defaults\u001b[39m.\u001b[39mget(arg, parser_defaults[arg])\n",
      "File \u001b[1;32mc:\\Users\\yashv\\AppData\\Local\\Programs\\Python\\Python310\\lib\\site-packages\\pandas\\io\\common.py:179\u001b[0m, in \u001b[0;36mvalidate_header_arg\u001b[1;34m(header)\u001b[0m\n\u001b[0;32m    <a href='file:///c%3A/Users/yashv/AppData/Local/Programs/Python/Python310/lib/site-packages/pandas/io/common.py?line=176'>177</a>\u001b[0m \u001b[39mdef\u001b[39;00m \u001b[39mvalidate_header_arg\u001b[39m(header: \u001b[39mobject\u001b[39m) \u001b[39m-\u001b[39m\u001b[39m>\u001b[39m \u001b[39mNone\u001b[39;00m:\n\u001b[0;32m    <a href='file:///c%3A/Users/yashv/AppData/Local/Programs/Python/Python310/lib/site-packages/pandas/io/common.py?line=177'>178</a>\u001b[0m     \u001b[39mif\u001b[39;00m \u001b[39misinstance\u001b[39m(header, \u001b[39mbool\u001b[39m):\n\u001b[1;32m--> <a href='file:///c%3A/Users/yashv/AppData/Local/Programs/Python/Python310/lib/site-packages/pandas/io/common.py?line=178'>179</a>\u001b[0m         \u001b[39mraise\u001b[39;00m \u001b[39mTypeError\u001b[39;00m(\n\u001b[0;32m    <a href='file:///c%3A/Users/yashv/AppData/Local/Programs/Python/Python310/lib/site-packages/pandas/io/common.py?line=179'>180</a>\u001b[0m             \u001b[39m\"\u001b[39m\u001b[39mPassing a bool to header is invalid. Use header=None for no header or \u001b[39m\u001b[39m\"\u001b[39m\n\u001b[0;32m    <a href='file:///c%3A/Users/yashv/AppData/Local/Programs/Python/Python310/lib/site-packages/pandas/io/common.py?line=180'>181</a>\u001b[0m             \u001b[39m\"\u001b[39m\u001b[39mheader=int or list-like of ints to specify \u001b[39m\u001b[39m\"\u001b[39m\n\u001b[0;32m    <a href='file:///c%3A/Users/yashv/AppData/Local/Programs/Python/Python310/lib/site-packages/pandas/io/common.py?line=181'>182</a>\u001b[0m             \u001b[39m\"\u001b[39m\u001b[39mthe row(s) making up the column names\u001b[39m\u001b[39m\"\u001b[39m\n\u001b[0;32m    <a href='file:///c%3A/Users/yashv/AppData/Local/Programs/Python/Python310/lib/site-packages/pandas/io/common.py?line=182'>183</a>\u001b[0m         )\n",
      "\u001b[1;31mTypeError\u001b[0m: Passing a bool to header is invalid. Use header=None for no header or header=int or list-like of ints to specify the row(s) making up the column names"
     ]
    }
   ],
   "source": [
    "# Load contraints\n",
    "\n",
    "country_list = pd.read_excel('constraints.xlsx', sheet_name = 0)\n",
    "years = pd.read_excel('constraints.xlsx', sheet_name = 1)\n",
    "years['year'] = years['year'].astype('str')\n",
    "\n",
    "# Load datasets\n",
    "big_mac = pd.read_csv('big-mac-raw-index.csv', usecols = ['date', 'iso_a3', 'local_price', 'dollar_ex'])\n",
    "gdp_data = pd.read_csv('API_NY.GDP.PCAP.PP.CD_DS2_en_csv_v2_4150885\\API_NY.GDP.PCAP.PP.CD_DS2_en_csv_v2_4150885.csv')\n",
    "acc_balance = pd.read_csv('API_BN.CAB.XOKA.GD.ZS_DS2_en_csv_v2_4150849\\API_BN.CAB.XOKA.GD.ZS_DS2_en_csv_v2_4150849.csv')\n",
    "labcomp = pd.read_excel('pwt100.xlsx', sheet_name = 2)\n",
    "ggb = pd.read_csv('DP_LIVE_28052022104927583.csv')"
   ]
  },
  {
   "cell_type": "markdown",
   "id": "852a375a",
   "metadata": {},
   "source": [
    "**Big Mac Index Pre-processing**"
   ]
  },
  {
   "cell_type": "code",
   "execution_count": null,
   "id": "dda1e3b1",
   "metadata": {},
   "outputs": [],
   "source": [
    "# Filter Country List\n",
    "big_mac_country_filtered = pd.merge(left = country_list['iso_a3'], \n",
    "                                    right = big_mac, \n",
    "                                    how = 'left', \n",
    "                                    on = 'iso_a3')\n",
    "\n",
    "# Group to annual\n",
    "big_mac_country_filtered['Year'] = big_mac_country_filtered['date'].str[:4]\n",
    "big_mac_annual = big_mac_country_filtered.groupby(by = ['iso_a3', 'Year'], axis = 0, \n",
    "                                                  as_index = False).agg({'local_price': 'mean', 'dollar_ex': 'mean'})\n",
    "\n",
    "# Filter Timeperiod\n",
    "big_mac_annual = pd.merge(left = years, \n",
    "                          right = big_mac_annual, \n",
    "                          how = 'left', \n",
    "                          left_on = 'year',\n",
    "                          right_on = 'Year')\n",
    "\n",
    "# Create Big Mac Index\n",
    "big_mac_annual['dollar_price'] = big_mac_annual['local_price'] / big_mac_annual['dollar_ex']\n",
    "big_mac_usa = big_mac_annual.loc[big_mac_annual['iso_a3'] == 'USA',['Year', 'local_price']]\n",
    "big_mac_usa.rename(columns = {'local_price':'price_in_USA'}, inplace = True)\n",
    "big_mac_annual = pd.merge(left = big_mac_annual, right = big_mac_usa, on = 'Year')\n",
    "big_mac_annual['big_mac_index'] = (big_mac_annual['dollar_price'] / big_mac_annual['price_in_USA']) - 1\n",
    "big_mac_annual.drop('price_in_USA', axis = 1, inplace = True)\n",
    "\n",
    "# Export\n",
    "#big_mac_annual.to_csv('big_mac_annual.csv')"
   ]
  },
  {
   "cell_type": "markdown",
   "id": "c05255be",
   "metadata": {},
   "source": [
    "**GDP Per Capita Pre-processing**"
   ]
  },
  {
   "cell_type": "code",
   "execution_count": null,
   "id": "36cc0cfb",
   "metadata": {},
   "outputs": [],
   "source": [
    "# Filter Country List\n",
    "gdp_data['Country Code'] = gdp_data['Country Code'].apply(lambda x: 'EUZ' if x == 'EMU' else x)\n",
    "gdp_data_country_filtered = pd.merge(left = country_list['iso_a3'], \n",
    "                                     right = gdp_data, \n",
    "                                     how = 'left', \n",
    "                                     left_on = 'iso_a3', \n",
    "                                     right_on = 'Country Code')\n",
    "# Drop Columns\n",
    "drop_cols = ['Indicator Name', 'Indicator Code']\n",
    "gdp_data_country_filtered.drop(drop_cols, axis = 1, inplace = True)\n",
    "\n",
    "# Filter Timeperiod\n",
    "keep_cols = ['Country Name', 'Country Code', 'iso_a3']\n",
    "keep_cols.extend(list(years.year))\n",
    "gdp_data_year_filtered = gdp_data_country_filtered[keep_cols]\n",
    "\n",
    "# Wide to Long Format\n",
    "gdp_post_processed = pd.melt(frame = gdp_data_year_filtered, \n",
    "                             id_vars = ['Country Name', 'Country Code', 'iso_a3'], \n",
    "                             var_name = 'Year', \n",
    "                             value_name = 'GDP per capita')\n",
    "\n",
    "# Export\n",
    "#gdp_post_processed.to_csv('gdp_post_processed.csv')"
   ]
  },
  {
   "cell_type": "markdown",
   "id": "cd4eac68",
   "metadata": {},
   "source": [
    "**Current Account Balance Pre-processing**"
   ]
  },
  {
   "cell_type": "code",
   "execution_count": null,
   "id": "7caf41d8",
   "metadata": {},
   "outputs": [],
   "source": [
    "# Filter Country List\n",
    "acc_balance['Country Code'] = acc_balance['Country Code'].apply(lambda x: 'EUZ' if x == 'EMU' else x)\n",
    "acc_balance_country_filtered = pd.merge(left = country_list['iso_a3'], \n",
    "                                        right = acc_balance, \n",
    "                                        how = 'left', \n",
    "                                        left_on = 'iso_a3', \n",
    "                                        right_on = 'Country Code')\n",
    "# Drop Columns\n",
    "drop_cols = ['Indicator Name', 'Indicator Code']\n",
    "acc_balance_country_filtered.drop(drop_cols, axis = 1, inplace = True)\n",
    "\n",
    "# Filter Timeperiod\n",
    "keep_cols = ['Country Name', 'Country Code', 'iso_a3']\n",
    "keep_cols.extend(list(years.year))\n",
    "acc_balance_year_filtered = acc_balance_country_filtered[keep_cols]\n",
    "\n",
    "# Wide to Long Format\n",
    "acc_balance_post_processed = pd.melt(frame = acc_balance_year_filtered, \n",
    "                                     id_vars = ['Country Name', 'Country Code', 'iso_a3'], \n",
    "                                     var_name = 'Year', \n",
    "                                     value_name = 'Curr Acc Balance')\n",
    "\n",
    "# Export\n",
    "acc_balance_post_processed.to_csv('acc_balance_post_processed.csv')"
   ]
  },
  {
   "cell_type": "markdown",
   "id": "db69a5e3",
   "metadata": {},
   "source": [
    "**Labour Compensation Dataset Pre-processing**"
   ]
  },
  {
   "cell_type": "code",
   "execution_count": null,
   "id": "04d282e3",
   "metadata": {},
   "outputs": [],
   "source": [
    "# Filter Country List\n",
    "labcomp['new_countrycode'] = labcomp.apply(lambda x: 'EUZ' if x['currency_unit'] == 'Euro' else x['countrycode'], axis = 1)\n",
    "labcomp_data_country_filtered = pd.merge(left = country_list, \n",
    "                                         right = labcomp, \n",
    "                                         how = 'left', \n",
    "                                         left_on = 'iso_a3', \n",
    "                                         right_on = 'new_countrycode')\n",
    "keep_cols = ['name', 'countrycode', 'country', 'year', 'labsh', 'new_countrycode']\n",
    "labcomp_data_country_filtered = labcomp_data_country_filtered[keep_cols]\n",
    "\n",
    "# Average labor compensation for all european countries\n",
    "eur = labcomp_data_country_filtered[labcomp_data_country_filtered['new_countrycode'] == 'EUZ']\n",
    "eur = eur.groupby(['year'], as_index=False).mean()\n",
    "eur['name'] = 'Euro Area'\n",
    "eur['countrycode'] = 'EUZ'\n",
    "\n",
    "# Remove european data from labor compensation dataframe & append average european numbers\n",
    "labcomp_data_country_filtered.drop(columns=['countrycode','country'], inplace=True)\n",
    "labcomp_data_country_filtered = labcomp_data_country_filtered.rename(columns={'new_countrycode':'countrycode'})\n",
    "labcomp_data_country_filtered = labcomp_data_country_filtered[labcomp_data_country_filtered['countrycode'] != 'EUZ']\n",
    "labcomp_data_country_filtered = labcomp_data_country_filtered.append(eur)\n",
    "\n",
    "# Filter Time-period\n",
    "labcomp_data_country_filtered = labcomp_data_country_filtered[(labcomp_data_country_filtered['year'] >= 2000) \n",
    "                                                              & (labcomp_data_country_filtered['year'] <= 2016)]\n",
    "labcomp_data_country_filtered['year'] = labcomp_data_country_filtered['year'].astype('str')\n",
    "\n",
    "\n",
    "# Rename\n",
    "lab_comp_post_processed = labcomp_data_country_filtered.rename(columns = {'name':'Country Name', \n",
    "                                                                          'year':'Year', \n",
    "                                                                          'countrycode': 'Country Code',\n",
    "                                                                          'labsh': 'labor comp per capita'})\n",
    "\n",
    "# Export\n",
    "#lab_comp_post_processed.to_csv('lab_comp_post_processed.csv')"
   ]
  },
  {
   "cell_type": "markdown",
   "id": "7aca17c1",
   "metadata": {},
   "source": [
    "**Government Balance Dataset Preprocessing**"
   ]
  },
  {
   "cell_type": "code",
   "execution_count": null,
   "id": "0b8a5463",
   "metadata": {},
   "outputs": [],
   "source": [
    "# Filter country list\n",
    "ggb['LOCATION'] = ggb['LOCATION'].apply(lambda x: 'EUZ' if x == 'EA' else x)\n",
    "ggb_data_country_filtered = pd.merge(left = country_list, \n",
    "                                    right = ggb, \n",
    "                                    how = 'left', \n",
    "                                    left_on = 'iso_a3', \n",
    "                                    right_on = 'LOCATION')\n",
    "\n",
    "# Filter time-period\n",
    "ggb_data_country_filtered = ggb_data_country_filtered[(ggb_data_country_filtered['TIME'] >= 2000) & \n",
    "                                                      (ggb_data_country_filtered['TIME'] <= 2016)]\n",
    "ggb_data_country_filtered['TIME'] = ggb_data_country_filtered['TIME'].astype('str')\n",
    "ggb_data_country_filtered['TIME'] = ggb_data_country_filtered['TIME'].str[:4]\n",
    "\n",
    "# Drop & rename columns\n",
    "ggb_data_country_filtered.drop(columns=['INDICATOR','SUBJECT','MEASURE','FREQUENCY','Flag Codes','currency_code',\n",
    "                                        'iso_a3'], inplace = True)\n",
    "ggb_data_post_processed = ggb_data_country_filtered.rename(columns={'name':'Country Name', \n",
    "                                                                    'TIME':'Year', \n",
    "                                                                    'LOCATION': 'Country Code', \n",
    "                                                                    'Value': 'GGB'})\n",
    "\n",
    "# Export\n",
    "#ggb_data_post_processed.to_csv('ggb_data_post_processed.csv')"
   ]
  },
  {
   "cell_type": "markdown",
   "id": "fd76dd4d",
   "metadata": {},
   "source": [
    "  "
   ]
  },
  {
   "cell_type": "markdown",
   "id": "e22c05ee",
   "metadata": {},
   "source": [
    "**Merge data**"
   ]
  },
  {
   "cell_type": "code",
   "execution_count": null,
   "id": "4810f4f1",
   "metadata": {},
   "outputs": [],
   "source": [
    "# Merge GDP & Current Account Balance\n",
    "merge1 = pd.merge(left = gdp_post_processed,\n",
    "                  right = acc_balance_post_processed[['iso_a3', 'Year', 'Curr Acc Balance']],\n",
    "                  how = 'inner', \n",
    "                  on = ['iso_a3', 'Year'])\n",
    "\n",
    "# Merge GGP & Labor Compensation\n",
    "merge2 = pd.merge(left = ggb_data_post_processed,\n",
    "                  right = lab_comp_post_processed[['Year', 'Country Code', 'labor comp per capita']],\n",
    "                  how = 'right', \n",
    "                  on = ['Country Code', 'Year'])\n",
    "\n",
    "# Missing value Imputation\n",
    "merge2['GGB'] = merge2['GGB'].fillna(merge2.groupby(by = 'Country Code')['GGB'].transform('mean'))\n",
    "\n",
    "# Merge with Big Mac Index\n",
    "merge3 = pd.merge(left = big_mac_annual,\n",
    "                  right = merge1[['iso_a3', 'Year', 'GDP per capita', 'Curr Acc Balance']],\n",
    "                  how = 'left',\n",
    "                  on = ['iso_a3', 'Year'])\n",
    "\n",
    "merge4 = pd.merge(left = merge3,\n",
    "                  right = merge2[['Country Code', 'Year', 'GGB', 'labor comp per capita']],\n",
    "                  how = 'left',\n",
    "                  left_on = ['iso_a3', 'Year'],\n",
    "                  right_on = ['Country Code', 'Year'])\n",
    "\n",
    "# Export Data\n",
    "#merge4.to_csv('processed_data_I.csv')"
   ]
  }
 ],
 "metadata": {
  "interpreter": {
   "hash": "1c1e284a094d26f47d86d91c5bc055dd561660b5b78539c2f7bb1ca63826b557"
  },
  "kernelspec": {
   "display_name": "Python 3.10.2 64-bit",
   "language": "python",
   "name": "python3"
  },
  "language_info": {
   "codemirror_mode": {
    "name": "ipython",
    "version": 3
   },
   "file_extension": ".py",
   "mimetype": "text/x-python",
   "name": "python",
   "nbconvert_exporter": "python",
   "pygments_lexer": "ipython3",
   "version": "3.10.2"
  }
 },
 "nbformat": 4,
 "nbformat_minor": 5
}
