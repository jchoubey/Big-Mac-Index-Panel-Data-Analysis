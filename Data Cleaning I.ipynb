{
 "cells": [
  {
   "cell_type": "code",
   "execution_count": 25,
   "id": "0632ab0e",
   "metadata": {},
   "outputs": [],
   "source": [
    "# Import libraries\n",
    "import numpy as np\n",
    "import pandas as pd"
   ]
  },
  {
   "cell_type": "markdown",
   "id": "eca32f00",
   "metadata": {},
   "source": [
    "**Data Upload**"
   ]
  },
  {
   "cell_type": "code",
   "execution_count": 26,
   "id": "ad524727",
   "metadata": {},
   "outputs": [],
   "source": [
    "# Load contraints\n",
    "country_list = pd.read_excel('constraints.xlsx', sheet_name = 'country-code')\n",
    "years = pd.read_excel('constraints.xlsx', sheet_name = 'time-period')\n",
    "\n",
    "# Load datasets\n",
    "gdp_data = pd.read_csv('API_NY.GDP.PCAP.PP.CD_DS2_en_csv_v2_4150885.csv')\n",
    "acc_balance = pd.read_csv('API_BN.CAB.XOKA.GD.ZS_DS2_en_csv_v2_4150849.csv')"
   ]
  },
  {
   "cell_type": "markdown",
   "id": "c05255be",
   "metadata": {},
   "source": [
    "**GDP Per Capita Pre-processing**"
   ]
  },
  {
   "cell_type": "code",
   "execution_count": 27,
   "id": "36cc0cfb",
   "metadata": {},
   "outputs": [],
   "source": [
    "# Filter Country List\n",
    "gdp_data['Country Code'] = gdp_data['Country Code'].apply(lambda x: 'EUZ' if x == 'EMU' else x)\n",
    "gdp_data_country_filtered = pd.merge(left = country_list['iso_a3'], \n",
    "                                     right = gdp_data, \n",
    "                                     how = 'left', \n",
    "                                     left_on = 'iso_a3', \n",
    "                                     right_on = 'Country Code')\n",
    "# Drop Columns\n",
    "drop_cols = ['Indicator Name', 'Indicator Code']\n",
    "gdp_data_country_filtered.drop(drop_cols, axis = 1, inplace = True)\n",
    "\n",
    "# Filter Timeperiod\n",
    "keep_cols = ['Country Name', 'Country Code', 'iso_a3']\n",
    "keep_cols.extend(list(years.year.astype(str)))\n",
    "gdp_data_year_filtered = gdp_data_country_filtered[keep_cols]\n",
    "\n",
    "# Wide to Long Format\n",
    "gdp_post_processed = pd.melt(frame = gdp_data_year_filtered, \n",
    "                             id_vars = ['Country Name', 'Country Code', 'iso_a3'], \n",
    "                             var_name = 'Year', \n",
    "                             value_name = 'GDP per capita')"
   ]
  },
  {
   "cell_type": "markdown",
   "id": "cd4eac68",
   "metadata": {},
   "source": [
    "**Current Account Balance Pre-processing**"
   ]
  },
  {
   "cell_type": "code",
   "execution_count": 28,
   "id": "7caf41d8",
   "metadata": {},
   "outputs": [],
   "source": [
    "# Filter Country List\n",
    "acc_balance['Country Code'] = acc_balance['Country Code'].apply(lambda x: 'EUZ' if x == 'EMU' else x)\n",
    "acc_balance_country_filtered = pd.merge(left = country_list['iso_a3'], \n",
    "                                        right = acc_balance, \n",
    "                                        how = 'left', \n",
    "                                        left_on = 'iso_a3', \n",
    "                                        right_on = 'Country Code')\n",
    "# Drop Columns\n",
    "drop_cols = ['Indicator Name', 'Indicator Code']\n",
    "acc_balance_country_filtered.drop(drop_cols, axis = 1, inplace = True)\n",
    "\n",
    "# Filter Timeperiod\n",
    "keep_cols = ['Country Name', 'Country Code', 'iso_a3']\n",
    "keep_cols.extend(list(years.year.astype(str)))\n",
    "acc_balance_year_filtered = acc_balance_country_filtered[keep_cols]\n",
    "\n",
    "# Wide to Long Format\n",
    "acc_balance_post_processed = pd.melt(frame = gdp_data_year_filtered, \n",
    "                                     id_vars = ['Country Name', 'Country Code', 'iso_a3'], \n",
    "                                     var_name = 'Year', \n",
    "                                     value_name = 'Curr Acc Balance')"
   ]
  },
  {
   "cell_type": "markdown",
   "id": "d518360f",
   "metadata": {},
   "source": [
    "**Merge data**"
   ]
  },
  {
   "cell_type": "code",
   "execution_count": 29,
   "id": "9afd8ec7",
   "metadata": {},
   "outputs": [
    {
     "data": {
      "text/html": [
       "<div>\n",
       "<style scoped>\n",
       "    .dataframe tbody tr th:only-of-type {\n",
       "        vertical-align: middle;\n",
       "    }\n",
       "\n",
       "    .dataframe tbody tr th {\n",
       "        vertical-align: top;\n",
       "    }\n",
       "\n",
       "    .dataframe thead th {\n",
       "        text-align: right;\n",
       "    }\n",
       "</style>\n",
       "<table border=\"1\" class=\"dataframe\">\n",
       "  <thead>\n",
       "    <tr style=\"text-align: right;\">\n",
       "      <th></th>\n",
       "      <th>Country Name</th>\n",
       "      <th>Country Code</th>\n",
       "      <th>iso_a3</th>\n",
       "      <th>Year</th>\n",
       "      <th>GDP per capita</th>\n",
       "      <th>Curr Acc Balance</th>\n",
       "    </tr>\n",
       "  </thead>\n",
       "  <tbody>\n",
       "    <tr>\n",
       "      <th>0</th>\n",
       "      <td>Australia</td>\n",
       "      <td>AUS</td>\n",
       "      <td>AUS</td>\n",
       "      <td>2000</td>\n",
       "      <td>26343.076700</td>\n",
       "      <td>26343.076700</td>\n",
       "    </tr>\n",
       "    <tr>\n",
       "      <th>1</th>\n",
       "      <td>Brazil</td>\n",
       "      <td>BRA</td>\n",
       "      <td>BRA</td>\n",
       "      <td>2000</td>\n",
       "      <td>9060.788667</td>\n",
       "      <td>9060.788667</td>\n",
       "    </tr>\n",
       "    <tr>\n",
       "      <th>2</th>\n",
       "      <td>United Kingdom</td>\n",
       "      <td>GBR</td>\n",
       "      <td>GBR</td>\n",
       "      <td>2000</td>\n",
       "      <td>26472.193710</td>\n",
       "      <td>26472.193710</td>\n",
       "    </tr>\n",
       "    <tr>\n",
       "      <th>3</th>\n",
       "      <td>Canada</td>\n",
       "      <td>CAN</td>\n",
       "      <td>CAN</td>\n",
       "      <td>2000</td>\n",
       "      <td>29362.084160</td>\n",
       "      <td>29362.084160</td>\n",
       "    </tr>\n",
       "    <tr>\n",
       "      <th>4</th>\n",
       "      <td>Chile</td>\n",
       "      <td>CHL</td>\n",
       "      <td>CHL</td>\n",
       "      <td>2000</td>\n",
       "      <td>9538.075278</td>\n",
       "      <td>9538.075278</td>\n",
       "    </tr>\n",
       "  </tbody>\n",
       "</table>\n",
       "</div>"
      ],
      "text/plain": [
       "     Country Name Country Code iso_a3  Year  GDP per capita  Curr Acc Balance\n",
       "0       Australia          AUS    AUS  2000    26343.076700      26343.076700\n",
       "1          Brazil          BRA    BRA  2000     9060.788667       9060.788667\n",
       "2  United Kingdom          GBR    GBR  2000    26472.193710      26472.193710\n",
       "3          Canada          CAN    CAN  2000    29362.084160      29362.084160\n",
       "4           Chile          CHL    CHL  2000     9538.075278       9538.075278"
      ]
     },
     "execution_count": 29,
     "metadata": {},
     "output_type": "execute_result"
    }
   ],
   "source": [
    "financial_data = pd.merge(left = gdp_post_processed,\n",
    "                          right = acc_balance_post_processed[['iso_a3', 'Year', 'Curr Acc Balance']],\n",
    "                          how = 'inner', \n",
    "                          on = ['iso_a3', 'Year'])\n",
    "financial_data.head()"
   ]
  },
  {
   "cell_type": "code",
   "execution_count": null,
   "id": "8e74051c",
   "metadata": {},
   "outputs": [],
   "source": []
  }
 ],
 "metadata": {
  "kernelspec": {
   "display_name": "Python 3",
   "language": "python",
   "name": "python3"
  },
  "language_info": {
   "codemirror_mode": {
    "name": "ipython",
    "version": 3
   },
   "file_extension": ".py",
   "mimetype": "text/x-python",
   "name": "python",
   "nbconvert_exporter": "python",
   "pygments_lexer": "ipython3",
   "version": "3.8.8"
  }
 },
 "nbformat": 4,
 "nbformat_minor": 5
}
