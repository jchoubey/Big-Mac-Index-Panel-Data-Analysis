{
 "cells": [
  {
   "cell_type": "markdown",
   "id": "47b98a6a",
   "metadata": {},
   "source": [
    "<h1> <center> Big Mac Index - Panel Data Analysis Project </center> </h1>\n",
    "<center> <h2>  1. Data Pre-processing </h2> </center>\n",
    "<br></br>"
   ]
  },
  {
   "cell_type": "code",
   "execution_count": 24,
   "id": "0632ab0e",
   "metadata": {},
   "outputs": [],
   "source": [
    "# Import libraries\n",
    "import numpy as np\n",
    "import pandas as pd"
   ]
  },
  {
   "cell_type": "markdown",
   "id": "eca32f00",
   "metadata": {},
   "source": [
    "**All Data Upload**"
   ]
  },
  {
   "cell_type": "code",
   "execution_count": 25,
   "id": "ad524727",
   "metadata": {},
   "outputs": [],
   "source": [
    "# Load contraints\n",
    "country_list = pd.read_excel('constraints.xlsx', sheet_name = 'country-code')\n",
    "years = pd.read_excel('constraints.xlsx', sheet_name = 'time-period')\n",
    "years['year'] = years['year'].astype('str')\n",
    "\n",
    "# Load datasets\n",
    "big_mac = pd.read_csv('big-mac-raw-index.csv', usecols = ['date', 'iso_a3', 'local_price', 'dollar_ex'])\n",
    "gdp_data = pd.read_csv('API_NY.GDP.PCAP.PP.CD_DS2_en_csv_v2_4150885.csv')\n",
    "acc_balance = pd.read_csv('API_BN.CAB.XOKA.GD.ZS_DS2_en_csv_v2_4150849.csv')\n",
    "labcomp = pd.read_excel('pwt100.xlsx', sheet_name = 2)\n",
    "ggb = pd.read_csv('DP_LIVE_28052022104927583.csv')"
   ]
  },
  {
   "cell_type": "markdown",
   "id": "852a375a",
   "metadata": {},
   "source": [
    "**Big Mac Index Pre-processing**"
   ]
  },
  {
   "cell_type": "code",
   "execution_count": 26,
   "id": "dda1e3b1",
   "metadata": {},
   "outputs": [],
   "source": [
    "# Filter Country List\n",
    "big_mac_country_filtered = pd.merge(left = country_list[['iso_a3', 'name']], \n",
    "                                    right = big_mac, \n",
    "                                    how = 'left', \n",
    "                                    on = 'iso_a3')\n",
    "\n",
    "# Group to annual\n",
    "big_mac_country_filtered['Year'] = big_mac_country_filtered['date'].str[:4]\n",
    "big_mac_annual = big_mac_country_filtered.groupby(by = ['iso_a3', 'name', 'Year'], axis = 0, \n",
    "                                                  as_index = False).agg({'local_price': 'mean', 'dollar_ex': 'mean'})\n",
    "\n",
    "# Filter Timeperiod\n",
    "big_mac_annual = pd.merge(left = years, \n",
    "                          right = big_mac_annual, \n",
    "                          how = 'left', \n",
    "                          left_on = 'year',\n",
    "                          right_on = 'Year')\n",
    "\n",
    "# Create Big Mac Index\n",
    "big_mac_annual['dollar_price'] = big_mac_annual['local_price'] / big_mac_annual['dollar_ex']\n",
    "big_mac_usa = big_mac_annual.loc[big_mac_annual['iso_a3'] == 'USA',['Year', 'local_price']]\n",
    "big_mac_usa.rename(columns = {'local_price':'price_in_USA'}, inplace = True)\n",
    "big_mac_annual = pd.merge(left = big_mac_annual, right = big_mac_usa, on = 'Year')\n",
    "big_mac_annual['big_mac_index'] = ((big_mac_annual['dollar_price'] / big_mac_annual['price_in_USA']) - 1)*100\n",
    "\n",
    "# Create relative PPP\n",
    "big_mac_annual['num'] = big_mac_annual.apply(lambda x: (x.local_price - x.dollar_price)/100, axis =1)\n",
    "big_mac_annual['denom'] = big_mac_annual.apply(lambda x: 1 + (x.local_price/100), axis=1)\n",
    "big_mac_annual['relative_PPP'] = big_mac_annual.apply(lambda x: (x.num/x.denom)*100, axis=1)\n",
    "\n",
    "# Drop irrelevant columns\n",
    "big_mac_annual.drop(['price_in_USA', 'num', 'denom'], axis = 1, inplace = True)\n",
    "big_mac_annual.rename(columns = {'name': 'country_name'}, inplace = True)\n",
    "\n",
    "# Export\n",
    "#big_mac_annual.to_csv('big_mac_annual.csv')"
   ]
  },
  {
   "cell_type": "markdown",
   "id": "c05255be",
   "metadata": {},
   "source": [
    "**GDP Per Capita Pre-processing**"
   ]
  },
  {
   "cell_type": "code",
   "execution_count": 27,
   "id": "36cc0cfb",
   "metadata": {},
   "outputs": [],
   "source": [
    "# Filter Country List\n",
    "gdp_data['Country Code'] = gdp_data['Country Code'].apply(lambda x: 'EUZ' if x == 'EMU' else x)\n",
    "gdp_data_country_filtered = pd.merge(left = country_list['iso_a3'], \n",
    "                                     right = gdp_data, \n",
    "                                     how = 'left', \n",
    "                                     left_on = 'iso_a3', \n",
    "                                     right_on = 'Country Code')\n",
    "# Drop Columns\n",
    "drop_cols = ['Indicator Name', 'Indicator Code']\n",
    "gdp_data_country_filtered.drop(drop_cols, axis = 1, inplace = True)\n",
    "\n",
    "# Filter Timeperiod\n",
    "keep_cols = ['Country Name', 'Country Code', 'iso_a3']\n",
    "keep_cols.extend(list(years.year))\n",
    "gdp_data_year_filtered = gdp_data_country_filtered[keep_cols]\n",
    "\n",
    "# Wide to Long Format\n",
    "gdp_post_processed = pd.melt(frame = gdp_data_year_filtered, \n",
    "                             id_vars = ['Country Name', 'Country Code', 'iso_a3'], \n",
    "                             var_name = 'Year', \n",
    "                             value_name = 'GDP per capita')\n",
    "\n",
    "# Export\n",
    "#gdp_post_processed.to_csv('gdp_post_processed.csv')"
   ]
  },
  {
   "cell_type": "markdown",
   "id": "cd4eac68",
   "metadata": {},
   "source": [
    "**Current Account Balance Pre-processing**"
   ]
  },
  {
   "cell_type": "code",
   "execution_count": 28,
   "id": "7caf41d8",
   "metadata": {},
   "outputs": [],
   "source": [
    "# Filter Country List\n",
    "acc_balance['Country Code'] = acc_balance['Country Code'].apply(lambda x: 'EUZ' if x == 'EMU' else x)\n",
    "acc_balance_country_filtered = pd.merge(left = country_list['iso_a3'], \n",
    "                                        right = acc_balance, \n",
    "                                        how = 'left', \n",
    "                                        left_on = 'iso_a3', \n",
    "                                        right_on = 'Country Code')\n",
    "# Drop Columns\n",
    "drop_cols = ['Indicator Name', 'Indicator Code']\n",
    "acc_balance_country_filtered.drop(drop_cols, axis = 1, inplace = True)\n",
    "\n",
    "# Filter Timeperiod\n",
    "keep_cols = ['Country Name', 'Country Code', 'iso_a3']\n",
    "keep_cols.extend(list(years.year))\n",
    "acc_balance_year_filtered = acc_balance_country_filtered[keep_cols]\n",
    "\n",
    "# Wide to Long Format\n",
    "acc_balance_post_processed = pd.melt(frame = acc_balance_year_filtered, \n",
    "                                     id_vars = ['Country Name', 'Country Code', 'iso_a3'], \n",
    "                                     var_name = 'Year', \n",
    "                                     value_name = 'Curr Acc Balance')\n",
    "\n",
    "# Export\n",
    "#acc_balance_post_processed.to_csv('acc_balance_post_processed.csv')"
   ]
  },
  {
   "cell_type": "markdown",
   "id": "db69a5e3",
   "metadata": {},
   "source": [
    "**Labour Compensation Dataset Pre-processing**"
   ]
  },
  {
   "cell_type": "code",
   "execution_count": 29,
   "id": "04d282e3",
   "metadata": {},
   "outputs": [],
   "source": [
    "# Filter Country List\n",
    "labcomp['new_countrycode'] = labcomp.apply(lambda x: 'EUZ' if x['currency_unit'] == 'Euro' else x['countrycode'], axis = 1)\n",
    "labcomp_data_country_filtered = pd.merge(left = country_list, \n",
    "                                         right = labcomp, \n",
    "                                         how = 'left', \n",
    "                                         left_on = 'iso_a3', \n",
    "                                         right_on = 'new_countrycode')\n",
    "keep_cols = ['name', 'countrycode', 'country', 'year', 'labsh', 'new_countrycode']\n",
    "labcomp_data_country_filtered = labcomp_data_country_filtered[keep_cols]\n",
    "\n",
    "# Average labor compensation for all european countries\n",
    "eur = labcomp_data_country_filtered[labcomp_data_country_filtered['new_countrycode'] == 'EUZ']\n",
    "eur = eur.groupby(['year'], as_index=False).mean()\n",
    "eur['name'] = 'Euro Area'\n",
    "eur['countrycode'] = 'EUZ'\n",
    "\n",
    "# Remove european data from labor compensation dataframe & append average european numbers\n",
    "labcomp_data_country_filtered.drop(columns=['countrycode','country'], inplace=True)\n",
    "labcomp_data_country_filtered = labcomp_data_country_filtered.rename(columns={'new_countrycode':'countrycode'})\n",
    "labcomp_data_country_filtered = labcomp_data_country_filtered[labcomp_data_country_filtered['countrycode'] != 'EUZ']\n",
    "labcomp_data_country_filtered = labcomp_data_country_filtered.append(eur)\n",
    "\n",
    "# Filter Time-period\n",
    "labcomp_data_country_filtered = labcomp_data_country_filtered[(labcomp_data_country_filtered['year'] >= 2000) \n",
    "                                                              & (labcomp_data_country_filtered['year'] <= 2016)]\n",
    "labcomp_data_country_filtered['year'] = labcomp_data_country_filtered['year'].astype('str')\n",
    "\n",
    "\n",
    "# Rename\n",
    "lab_comp_post_processed = labcomp_data_country_filtered.rename(columns = {'name':'Country Name', \n",
    "                                                                          'year':'Year', \n",
    "                                                                          'countrycode': 'Country Code',\n",
    "                                                                          'labsh': 'labor comp per capita'})\n",
    "\n",
    "# Show labor compensation as a percentage of GDP (multiply by 100)\n",
    "lab_comp_post_processed['labor comp per capita'] = lab_comp_post_processed['labor comp per capita']*100 \n",
    "\n",
    "# Export\n",
    "#lab_comp_post_processed.to_csv('lab_comp_post_processed.csv')"
   ]
  },
  {
   "cell_type": "markdown",
   "id": "7aca17c1",
   "metadata": {},
   "source": [
    "**Government Balance Dataset Preprocessing**"
   ]
  },
  {
   "cell_type": "code",
   "execution_count": 30,
   "id": "0b8a5463",
   "metadata": {},
   "outputs": [],
   "source": [
    "# Filter country list\n",
    "ggb['LOCATION'] = ggb['LOCATION'].apply(lambda x: 'EUZ' if x == 'EA' else x)\n",
    "ggb_data_country_filtered = pd.merge(left = country_list, \n",
    "                                    right = ggb, \n",
    "                                    how = 'left', \n",
    "                                    left_on = 'iso_a3', \n",
    "                                    right_on = 'LOCATION')\n",
    "\n",
    "# Filter time-period\n",
    "ggb_data_country_filtered = ggb_data_country_filtered[(ggb_data_country_filtered['TIME'] >= 2000) & \n",
    "                                                      (ggb_data_country_filtered['TIME'] <= 2016)]\n",
    "ggb_data_country_filtered['TIME'] = ggb_data_country_filtered['TIME'].astype('str')\n",
    "ggb_data_country_filtered['TIME'] = ggb_data_country_filtered['TIME'].str[:4]\n",
    "\n",
    "# Drop & rename columns\n",
    "ggb_data_country_filtered.drop(columns=['INDICATOR','SUBJECT','MEASURE','FREQUENCY','Flag Codes','currency_code',\n",
    "                                        'iso_a3'], inplace = True)\n",
    "ggb_data_post_processed = ggb_data_country_filtered.rename(columns={'name':'Country Name', \n",
    "                                                                    'TIME':'Year', \n",
    "                                                                    'LOCATION': 'Country Code', \n",
    "                                                                    'Value': 'GGB'})\n",
    "\n",
    "# Export\n",
    "#ggb_data_post_processed.to_csv('ggb_data_post_processed.csv')"
   ]
  },
  {
   "cell_type": "markdown",
   "id": "fd76dd4d",
   "metadata": {},
   "source": [
    "  "
   ]
  },
  {
   "cell_type": "markdown",
   "id": "e22c05ee",
   "metadata": {},
   "source": [
    "**Merge data**"
   ]
  },
  {
   "cell_type": "code",
   "execution_count": 31,
   "id": "4810f4f1",
   "metadata": {},
   "outputs": [],
   "source": [
    "# Merge GDP & Current Account Balance\n",
    "merge1 = pd.merge(left = gdp_post_processed,\n",
    "                  right = acc_balance_post_processed[['iso_a3', 'Year', 'Curr Acc Balance']],\n",
    "                  how = 'inner', \n",
    "                  on = ['iso_a3', 'Year'])\n",
    "\n",
    "# Merge GGP & Labor Compensation\n",
    "merge2 = pd.merge(left = ggb_data_post_processed,\n",
    "                  right = lab_comp_post_processed[['Year', 'Country Code', 'labor comp per capita']],\n",
    "                  how = 'right', \n",
    "                  on = ['Country Code', 'Year'])\n",
    "\n",
    "# Missing value Imputation\n",
    "merge2['GGB'] = merge2['GGB'].fillna(merge2.groupby(by = 'Country Code')['GGB'].transform('mean'))\n",
    "\n",
    "# Merge with Big Mac Index\n",
    "merge3 = pd.merge(left = big_mac_annual,\n",
    "                  right = merge1[['iso_a3', 'Year', 'GDP per capita', 'Curr Acc Balance']],\n",
    "                  how = 'left',\n",
    "                  on = ['iso_a3', 'Year'])\n",
    "\n",
    "merge4 = pd.merge(left = merge3,\n",
    "                  right = merge2[['Country Code', 'Year', 'GGB', 'labor comp per capita']],\n",
    "                  how = 'left',\n",
    "                  left_on = ['iso_a3', 'Year'],\n",
    "                  right_on = ['Country Code', 'Year'])\n",
    "\n",
    "# Calculate big mac affordability\n",
    "merge4['big_mac_affordability'] = (merge4['GDP per capita'] / merge4['dollar_price']) / 365\n",
    "\n",
    "# Drop irrelevant columns\n",
    "merge4.drop(['Year', 'Country Code'], axis = 1, inplace = True)\n",
    "\n",
    "# Export Data\n",
    "#merge4.to_csv('processed_data_I.csv')"
   ]
  },
  {
   "cell_type": "markdown",
   "id": "659f7adf",
   "metadata": {},
   "source": [
    "  "
   ]
  },
  {
   "cell_type": "markdown",
   "id": "8e9875d4",
   "metadata": {},
   "source": [
    "  "
   ]
  }
 ],
 "metadata": {
  "kernelspec": {
   "display_name": "Python 3",
   "language": "python",
   "name": "python3"
  },
  "language_info": {
   "codemirror_mode": {
    "name": "ipython",
    "version": 3
   },
   "file_extension": ".py",
   "mimetype": "text/x-python",
   "name": "python",
   "nbconvert_exporter": "python",
   "pygments_lexer": "ipython3",
   "version": "3.8.8"
  }
 },
 "nbformat": 4,
 "nbformat_minor": 5
}
