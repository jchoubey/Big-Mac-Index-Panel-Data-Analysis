{
 "cells": [
  {
   "cell_type": "code",
   "execution_count": 126,
   "id": "0632ab0e",
   "metadata": {},
   "outputs": [],
   "source": [
    "# Import libraries\n",
    "import numpy as np\n",
    "import pandas as pd"
   ]
  },
  {
   "cell_type": "markdown",
   "id": "eca32f00",
   "metadata": {},
   "source": [
    "**Data Upload**"
   ]
  },
  {
   "cell_type": "code",
   "execution_count": 127,
   "id": "ad524727",
   "metadata": {},
   "outputs": [],
   "source": [
    "# Load contraints\n",
    "country_list = pd.read_excel('constraints.xlsx', sheet_name = 'country-code')\n",
    "years = pd.read_excel('constraints.xlsx', sheet_name = 'time-period')\n",
    "\n",
    "# Load datasets\n",
    "gdp_data = pd.read_csv('API_NY.GDP.PCAP.PP.CD_DS2_en_csv_v2_4150885.csv')\n",
    "acc_balance = pd.read_csv('API_BN.CAB.XOKA.GD.ZS_DS2_en_csv_v2_4150849.csv')"
   ]
  },
  {
   "cell_type": "markdown",
   "id": "c05255be",
   "metadata": {},
   "source": [
    "**GDP Per Capita Pre-processing**"
   ]
  },
  {
   "cell_type": "code",
   "execution_count": 128,
   "id": "36cc0cfb",
   "metadata": {},
   "outputs": [],
   "source": [
    "# Filter Country List\n",
    "gdp_data['Country Code'] = gdp_data['Country Code'].apply(lambda x: 'EUZ' if x == 'EMU' else x)\n",
    "gdp_data_country_filtered = pd.merge(left = country_list, \n",
    "                                     right = gdp_data, \n",
    "                                     how = 'left', \n",
    "                                     left_on = 'iso_a3', \n",
    "                                     right_on = 'Country Code')\n",
    "# Drop Columns\n",
    "drop_cols = ['Indicator Name', 'Indicator Code', 'name', 'currency_code']\n",
    "gdp_data_country_filtered.drop(drop_cols, axis = 1, inplace = True)\n",
    "\n",
    "# Filter Timeperiod\n",
    "keep_cols = ['Country Name', 'Country Code', 'iso_a3']\n",
    "keep_cols.extend(list(years.year.astype(str)))\n",
    "gdp_data_year_filtered = gdp_data_country_filtered[keep_cols]\n",
    "\n",
    "# Wide to Long Format\n",
    "gdp_post_processed = pd.melt(frame = gdp_data_year_filtered, \n",
    "                             id_vars = ['Country Name', 'Country Code', 'iso_a3'], \n",
    "                             var_name = 'Year', \n",
    "                             value_name = 'GDP per capita')"
   ]
  },
  {
   "cell_type": "markdown",
   "id": "cd4eac68",
   "metadata": {},
   "source": [
    "**Current Account Balance Pre-processing**"
   ]
  },
  {
   "cell_type": "code",
   "execution_count": 130,
   "id": "7caf41d8",
   "metadata": {},
   "outputs": [],
   "source": [
    "# Filter Country List\n",
    "acc_balance['Country Code'] = acc_balance['Country Code'].apply(lambda x: 'EUZ' if x == 'EMU' else x)\n",
    "acc_balance_country_filtered = pd.merge(left = country_list, \n",
    "                                        right = acc_balance, \n",
    "                                        how = 'left', \n",
    "                                        left_on = 'iso_a3', \n",
    "                                        right_on = 'Country Code')\n",
    "# Drop Columns\n",
    "drop_cols = ['Indicator Name', 'Indicator Code', 'name', 'currency_code']\n",
    "acc_balance_country_filtered.drop(drop_cols, axis = 1, inplace = True)\n",
    "\n",
    "# Filter Timeperiod\n",
    "keep_cols = ['Country Name', 'Country Code', 'iso_a3']\n",
    "keep_cols.extend(list(years.year.astype(str)))\n",
    "acc_balance_year_filtered = acc_balance_country_filtered[keep_cols]\n",
    "\n",
    "# Wide to Long Format\n",
    "acc_balance_post_processed = pd.melt(frame = gdp_data_year_filtered, \n",
    "                                     id_vars = ['Country Name', 'Country Code', 'iso_a3'], \n",
    "                                     var_name = 'Year', \n",
    "                                     value_name = 'Curr Acc Balance')"
   ]
  },
  {
   "cell_type": "code",
   "execution_count": null,
   "id": "044b3b3b",
   "metadata": {},
   "outputs": [],
   "source": []
  }
 ],
 "metadata": {
  "kernelspec": {
   "display_name": "Python 3",
   "language": "python",
   "name": "python3"
  },
  "language_info": {
   "codemirror_mode": {
    "name": "ipython",
    "version": 3
   },
   "file_extension": ".py",
   "mimetype": "text/x-python",
   "name": "python",
   "nbconvert_exporter": "python",
   "pygments_lexer": "ipython3",
   "version": "3.8.8"
  }
 },
 "nbformat": 4,
 "nbformat_minor": 5
}
