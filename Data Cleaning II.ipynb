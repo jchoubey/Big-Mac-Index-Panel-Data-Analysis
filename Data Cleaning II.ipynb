{
 "cells": [
  {
   "cell_type": "code",
   "execution_count": 1,
   "metadata": {},
   "outputs": [],
   "source": [
    "# import required libraries\n",
    "import numpy as np\n",
    "import pandas as pd"
   ]
  },
  {
   "cell_type": "markdown",
   "metadata": {},
   "source": [
    "**Import the Dataset**"
   ]
  },
  {
   "cell_type": "code",
   "execution_count": 2,
   "metadata": {},
   "outputs": [],
   "source": [
    "# Load contraints\n",
    "country_list = pd.read_excel('D:\\Big-Mac-Index-Panel-Data-Analysis\\data\\constraints.xlsx', sheet_name = 'country-code')\n",
    "years = pd.read_excel('D:\\Big-Mac-Index-Panel-Data-Analysis\\data\\constraints.xlsx', sheet_name = 'time-period')\n",
    "\n",
    "# Load datasets\n",
    "labcomp = pd.read_excel(r'D:\\\\TimeSeriesProj\\\\UnCleanedData\\\\pwt100.xlsx', sheet_name = 2)\n",
    "ggb = pd.read_csv('D:\\Big-Mac-Index-Panel-Data-Analysis\\data\\DP_LIVE_28052022104927583.csv')"
   ]
  },
  {
   "cell_type": "markdown",
   "metadata": {},
   "source": [
    "**Labour Compensation Dataset Pre-processing**"
   ]
  },
  {
   "cell_type": "code",
   "execution_count": 3,
   "metadata": {},
   "outputs": [
    {
     "data": {
      "text/html": [
       "<div>\n",
       "<style scoped>\n",
       "    .dataframe tbody tr th:only-of-type {\n",
       "        vertical-align: middle;\n",
       "    }\n",
       "\n",
       "    .dataframe tbody tr th {\n",
       "        vertical-align: top;\n",
       "    }\n",
       "\n",
       "    .dataframe thead th {\n",
       "        text-align: right;\n",
       "    }\n",
       "</style>\n",
       "<table border=\"1\" class=\"dataframe\">\n",
       "  <thead>\n",
       "    <tr style=\"text-align: right;\">\n",
       "      <th></th>\n",
       "      <th>name</th>\n",
       "      <th>countrycode</th>\n",
       "      <th>country</th>\n",
       "      <th>year</th>\n",
       "      <th>labsh</th>\n",
       "      <th>new_countrycode</th>\n",
       "    </tr>\n",
       "  </thead>\n",
       "  <tbody>\n",
       "    <tr>\n",
       "      <th>0</th>\n",
       "      <td>Australia</td>\n",
       "      <td>AUS</td>\n",
       "      <td>Australia</td>\n",
       "      <td>1950</td>\n",
       "      <td>0.680492</td>\n",
       "      <td>AUS</td>\n",
       "    </tr>\n",
       "    <tr>\n",
       "      <th>1</th>\n",
       "      <td>Australia</td>\n",
       "      <td>AUS</td>\n",
       "      <td>Australia</td>\n",
       "      <td>1951</td>\n",
       "      <td>0.680492</td>\n",
       "      <td>AUS</td>\n",
       "    </tr>\n",
       "    <tr>\n",
       "      <th>2</th>\n",
       "      <td>Australia</td>\n",
       "      <td>AUS</td>\n",
       "      <td>Australia</td>\n",
       "      <td>1952</td>\n",
       "      <td>0.680492</td>\n",
       "      <td>AUS</td>\n",
       "    </tr>\n",
       "    <tr>\n",
       "      <th>3</th>\n",
       "      <td>Australia</td>\n",
       "      <td>AUS</td>\n",
       "      <td>Australia</td>\n",
       "      <td>1953</td>\n",
       "      <td>0.680492</td>\n",
       "      <td>AUS</td>\n",
       "    </tr>\n",
       "    <tr>\n",
       "      <th>4</th>\n",
       "      <td>Australia</td>\n",
       "      <td>AUS</td>\n",
       "      <td>Australia</td>\n",
       "      <td>1954</td>\n",
       "      <td>0.680492</td>\n",
       "      <td>AUS</td>\n",
       "    </tr>\n",
       "  </tbody>\n",
       "</table>\n",
       "</div>"
      ],
      "text/plain": [
       "        name countrycode    country  year     labsh new_countrycode\n",
       "0  Australia         AUS  Australia  1950  0.680492             AUS\n",
       "1  Australia         AUS  Australia  1951  0.680492             AUS\n",
       "2  Australia         AUS  Australia  1952  0.680492             AUS\n",
       "3  Australia         AUS  Australia  1953  0.680492             AUS\n",
       "4  Australia         AUS  Australia  1954  0.680492             AUS"
      ]
     },
     "execution_count": 3,
     "metadata": {},
     "output_type": "execute_result"
    }
   ],
   "source": [
    "# Filter Country List\n",
    "labcomp['new_countrycode'] = labcomp.apply(lambda x: 'EUZ' if x['currency_unit'] == 'Euro' else x['countrycode'], axis = 1)\n",
    "\n",
    "labcomp_data_country_filtered = pd.merge(left = country_list, \n",
    "                                    right = labcomp, \n",
    "                                    how = 'left', \n",
    "                                    left_on = 'iso_a3', \n",
    "                                    right_on = 'new_countrycode')\n",
    "\n",
    "keep_cols = ['name', 'countrycode', 'country', 'year', 'labsh', 'new_countrycode']\n",
    "labcomp_data_country_filtered = labcomp_data_country_filtered[keep_cols]\n",
    "\n",
    "labcomp_data_country_filtered.head()\n"
   ]
  },
  {
   "cell_type": "code",
   "execution_count": 4,
   "metadata": {},
   "outputs": [
    {
     "data": {
      "text/html": [
       "<div>\n",
       "<style scoped>\n",
       "    .dataframe tbody tr th:only-of-type {\n",
       "        vertical-align: middle;\n",
       "    }\n",
       "\n",
       "    .dataframe tbody tr th {\n",
       "        vertical-align: top;\n",
       "    }\n",
       "\n",
       "    .dataframe thead th {\n",
       "        text-align: right;\n",
       "    }\n",
       "</style>\n",
       "<table border=\"1\" class=\"dataframe\">\n",
       "  <thead>\n",
       "    <tr style=\"text-align: right;\">\n",
       "      <th></th>\n",
       "      <th>year</th>\n",
       "      <th>labsh</th>\n",
       "      <th>name</th>\n",
       "      <th>countrycode</th>\n",
       "    </tr>\n",
       "  </thead>\n",
       "  <tbody>\n",
       "    <tr>\n",
       "      <th>0</th>\n",
       "      <td>1950</td>\n",
       "      <td>0.625031</td>\n",
       "      <td>Euro Area</td>\n",
       "      <td>EUZ</td>\n",
       "    </tr>\n",
       "    <tr>\n",
       "      <th>1</th>\n",
       "      <td>1951</td>\n",
       "      <td>0.614484</td>\n",
       "      <td>Euro Area</td>\n",
       "      <td>EUZ</td>\n",
       "    </tr>\n",
       "    <tr>\n",
       "      <th>2</th>\n",
       "      <td>1952</td>\n",
       "      <td>0.615965</td>\n",
       "      <td>Euro Area</td>\n",
       "      <td>EUZ</td>\n",
       "    </tr>\n",
       "    <tr>\n",
       "      <th>3</th>\n",
       "      <td>1953</td>\n",
       "      <td>0.615387</td>\n",
       "      <td>Euro Area</td>\n",
       "      <td>EUZ</td>\n",
       "    </tr>\n",
       "    <tr>\n",
       "      <th>4</th>\n",
       "      <td>1954</td>\n",
       "      <td>0.610143</td>\n",
       "      <td>Euro Area</td>\n",
       "      <td>EUZ</td>\n",
       "    </tr>\n",
       "  </tbody>\n",
       "</table>\n",
       "</div>"
      ],
      "text/plain": [
       "   year     labsh       name countrycode\n",
       "0  1950  0.625031  Euro Area         EUZ\n",
       "1  1951  0.614484  Euro Area         EUZ\n",
       "2  1952  0.615965  Euro Area         EUZ\n",
       "3  1953  0.615387  Euro Area         EUZ\n",
       "4  1954  0.610143  Euro Area         EUZ"
      ]
     },
     "execution_count": 4,
     "metadata": {},
     "output_type": "execute_result"
    }
   ],
   "source": [
    "eur = labcomp_data_country_filtered[labcomp_data_country_filtered['new_countrycode'] == 'EUZ']\n",
    "eur = eur.groupby(['year'], as_index=False).mean()\n",
    "eur['name'] = 'Euro Area'\n",
    "eur['countrycode'] = 'EUZ'\n",
    "eur.head()"
   ]
  },
  {
   "cell_type": "code",
   "execution_count": 5,
   "metadata": {},
   "outputs": [],
   "source": [
    "labcomp_data_country_filtered.drop(columns=['countrycode','country'], inplace=True)\n",
    "labcomp_data_country_filtered = labcomp_data_country_filtered.rename(columns={'new_countrycode':'countrycode'})\n",
    "labcomp_data_country_filtered = labcomp_data_country_filtered[labcomp_data_country_filtered['countrycode'] != 'EUZ']"
   ]
  },
  {
   "cell_type": "code",
   "execution_count": 6,
   "metadata": {},
   "outputs": [
    {
     "name": "stderr",
     "output_type": "stream",
     "text": [
      "C:\\Users\\yashv\\AppData\\Local\\Temp\\ipykernel_23108\\2123043983.py:1: FutureWarning: The frame.append method is deprecated and will be removed from pandas in a future version. Use pandas.concat instead.\n",
      "  labcomp_data_country_filtered = labcomp_data_country_filtered.append(eur)\n"
     ]
    }
   ],
   "source": [
    "labcomp_data_country_filtered = labcomp_data_country_filtered.append(eur)\n",
    "\n",
    "labcomp_data_country_filtered = labcomp_data_country_filtered[(labcomp_data_country_filtered['year'] >= 2000) & (labcomp_data_country_filtered['year'] <= 2016)]\n",
    "\n",
    "# drop a few countries \n",
    "drop_countries = ['HKG', 'MYS', 'SGP', 'TWN', 'THA']\n",
    "new_df = labcomp_data_country_filtered[~labcomp_data_country_filtered.countrycode.isin(drop_countries)]\n",
    "new_df = new_df.rename(columns = {'name':'Country Name', 'year':'Year', 'countrycode': 'Country Code'})"
   ]
  },
  {
   "cell_type": "code",
   "execution_count": 7,
   "metadata": {},
   "outputs": [],
   "source": [
    "path = 'D:\\\\Big-Mac-Index-Panel-Data-Analysis\\\\CleanedData\\\\'\n",
    "new_df.to_csv(path + \"labcomp.csv\", index=False)"
   ]
  },
  {
   "cell_type": "markdown",
   "metadata": {},
   "source": [
    "**Government Balance Dataset Preprocessing**"
   ]
  },
  {
   "cell_type": "code",
   "execution_count": 8,
   "metadata": {},
   "outputs": [
    {
     "data": {
      "text/html": [
       "<div>\n",
       "<style scoped>\n",
       "    .dataframe tbody tr th:only-of-type {\n",
       "        vertical-align: middle;\n",
       "    }\n",
       "\n",
       "    .dataframe tbody tr th {\n",
       "        vertical-align: top;\n",
       "    }\n",
       "\n",
       "    .dataframe thead th {\n",
       "        text-align: right;\n",
       "    }\n",
       "</style>\n",
       "<table border=\"1\" class=\"dataframe\">\n",
       "  <thead>\n",
       "    <tr style=\"text-align: right;\">\n",
       "      <th></th>\n",
       "      <th>name</th>\n",
       "      <th>LOCATION</th>\n",
       "      <th>TIME</th>\n",
       "      <th>Value</th>\n",
       "    </tr>\n",
       "  </thead>\n",
       "  <tbody>\n",
       "    <tr>\n",
       "      <th>0</th>\n",
       "      <td>Australia</td>\n",
       "      <td>AUS</td>\n",
       "      <td>2000.0</td>\n",
       "      <td>-1.292779</td>\n",
       "    </tr>\n",
       "    <tr>\n",
       "      <th>1</th>\n",
       "      <td>Australia</td>\n",
       "      <td>AUS</td>\n",
       "      <td>2001.0</td>\n",
       "      <td>-0.743403</td>\n",
       "    </tr>\n",
       "    <tr>\n",
       "      <th>2</th>\n",
       "      <td>Australia</td>\n",
       "      <td>AUS</td>\n",
       "      <td>2002.0</td>\n",
       "      <td>0.706782</td>\n",
       "    </tr>\n",
       "    <tr>\n",
       "      <th>3</th>\n",
       "      <td>Australia</td>\n",
       "      <td>AUS</td>\n",
       "      <td>2003.0</td>\n",
       "      <td>0.794190</td>\n",
       "    </tr>\n",
       "    <tr>\n",
       "      <th>4</th>\n",
       "      <td>Australia</td>\n",
       "      <td>AUS</td>\n",
       "      <td>2004.0</td>\n",
       "      <td>0.927764</td>\n",
       "    </tr>\n",
       "  </tbody>\n",
       "</table>\n",
       "</div>"
      ],
      "text/plain": [
       "        name LOCATION    TIME     Value\n",
       "0  Australia      AUS  2000.0 -1.292779\n",
       "1  Australia      AUS  2001.0 -0.743403\n",
       "2  Australia      AUS  2002.0  0.706782\n",
       "3  Australia      AUS  2003.0  0.794190\n",
       "4  Australia      AUS  2004.0  0.927764"
      ]
     },
     "execution_count": 8,
     "metadata": {},
     "output_type": "execute_result"
    }
   ],
   "source": [
    "ggb_data_country_filtered = pd.merge(left = country_list, \n",
    "                                    right = ggb, \n",
    "                                    how = 'left', \n",
    "                                    left_on = 'iso_a3', \n",
    "                                    right_on = 'LOCATION')\n",
    "\n",
    "ggb_data_country_filtered = ggb_data_country_filtered[(ggb_data_country_filtered['TIME'] >= 2000) & (ggb_data_country_filtered['TIME'] <= 2016)]\n",
    "\n",
    "ggb_data_country_filtered.drop(columns=['INDICATOR', 'SUBJECT', 'MEASURE', 'FREQUENCY', 'Flag Codes', 'currency_code', 'iso_a3'], inplace = True)\n",
    "ggb_data_country_filtered.rename(columns={'name':'Country Name', 'TIME':'Year', \"LOCATION\": 'Country Code', 'Value': 'GGB'})\n",
    "ggb_data_country_filtered.head()\n",
    "## HKG, MYS, SGP, TWN, THA"
   ]
  },
  {
   "cell_type": "code",
   "execution_count": 9,
   "metadata": {},
   "outputs": [],
   "source": [
    "ggb_data_country_filtered.to_csv(path + \"ggb.csv\", index=False)"
   ]
  }
 ],
 "metadata": {
  "interpreter": {
   "hash": "1c1e284a094d26f47d86d91c5bc055dd561660b5b78539c2f7bb1ca63826b557"
  },
  "kernelspec": {
   "display_name": "Python 3.10.2 64-bit",
   "language": "python",
   "name": "python3"
  },
  "language_info": {
   "codemirror_mode": {
    "name": "ipython",
    "version": 3
   },
   "file_extension": ".py",
   "mimetype": "text/x-python",
   "name": "python",
   "nbconvert_exporter": "python",
   "pygments_lexer": "ipython3",
   "version": "3.10.2"
  },
  "orig_nbformat": 4
 },
 "nbformat": 4,
 "nbformat_minor": 2
}
